{
 "cells": [
  {
   "cell_type": "code",
   "execution_count": 38,
   "metadata": {
    "colab": {},
    "colab_type": "code",
    "id": "6uIDpk-hBcQV"
   },
   "outputs": [],
   "source": [
    "# Importing the libraries\n",
    "import numpy as np\n",
    "import matplotlib.pyplot as plt\n",
    "import pandas as pd"
   ]
  },
  {
   "cell_type": "code",
   "execution_count": 39,
   "metadata": {
    "colab": {},
    "colab_type": "code",
    "id": "igevAqlgBgoR"
   },
   "outputs": [],
   "source": [
    "# Importing the training set\n",
    "dataset_train = pd.read_csv('Google_Stock_Price_Train.csv')"
   ]
  },
  {
   "cell_type": "code",
   "execution_count": 40,
   "metadata": {
    "colab": {},
    "colab_type": "code",
    "id": "b7sFINyiBpOC"
   },
   "outputs": [
    {
     "data": {
      "text/html": [
       "<div>\n",
       "<style scoped>\n",
       "    .dataframe tbody tr th:only-of-type {\n",
       "        vertical-align: middle;\n",
       "    }\n",
       "\n",
       "    .dataframe tbody tr th {\n",
       "        vertical-align: top;\n",
       "    }\n",
       "\n",
       "    .dataframe thead th {\n",
       "        text-align: right;\n",
       "    }\n",
       "</style>\n",
       "<table border=\"1\" class=\"dataframe\">\n",
       "  <thead>\n",
       "    <tr style=\"text-align: right;\">\n",
       "      <th></th>\n",
       "      <th>Date</th>\n",
       "      <th>Open</th>\n",
       "      <th>High</th>\n",
       "      <th>Low</th>\n",
       "      <th>Close</th>\n",
       "      <th>Volume</th>\n",
       "    </tr>\n",
       "  </thead>\n",
       "  <tbody>\n",
       "    <tr>\n",
       "      <th>0</th>\n",
       "      <td>1/3/2012</td>\n",
       "      <td>325.25</td>\n",
       "      <td>332.83</td>\n",
       "      <td>324.97</td>\n",
       "      <td>663.59</td>\n",
       "      <td>7,380,500</td>\n",
       "    </tr>\n",
       "    <tr>\n",
       "      <th>1</th>\n",
       "      <td>1/4/2012</td>\n",
       "      <td>331.27</td>\n",
       "      <td>333.87</td>\n",
       "      <td>329.08</td>\n",
       "      <td>666.45</td>\n",
       "      <td>5,749,400</td>\n",
       "    </tr>\n",
       "    <tr>\n",
       "      <th>2</th>\n",
       "      <td>1/5/2012</td>\n",
       "      <td>329.83</td>\n",
       "      <td>330.75</td>\n",
       "      <td>326.89</td>\n",
       "      <td>657.21</td>\n",
       "      <td>6,590,300</td>\n",
       "    </tr>\n",
       "    <tr>\n",
       "      <th>3</th>\n",
       "      <td>1/6/2012</td>\n",
       "      <td>328.34</td>\n",
       "      <td>328.77</td>\n",
       "      <td>323.68</td>\n",
       "      <td>648.24</td>\n",
       "      <td>5,405,900</td>\n",
       "    </tr>\n",
       "    <tr>\n",
       "      <th>4</th>\n",
       "      <td>1/9/2012</td>\n",
       "      <td>322.04</td>\n",
       "      <td>322.29</td>\n",
       "      <td>309.46</td>\n",
       "      <td>620.76</td>\n",
       "      <td>11,688,800</td>\n",
       "    </tr>\n",
       "  </tbody>\n",
       "</table>\n",
       "</div>"
      ],
      "text/plain": [
       "       Date    Open    High     Low   Close      Volume\n",
       "0  1/3/2012  325.25  332.83  324.97  663.59   7,380,500\n",
       "1  1/4/2012  331.27  333.87  329.08  666.45   5,749,400\n",
       "2  1/5/2012  329.83  330.75  326.89  657.21   6,590,300\n",
       "3  1/6/2012  328.34  328.77  323.68  648.24   5,405,900\n",
       "4  1/9/2012  322.04  322.29  309.46  620.76  11,688,800"
      ]
     },
     "execution_count": 40,
     "metadata": {},
     "output_type": "execute_result"
    }
   ],
   "source": [
    "dataset_train.head()"
   ]
  },
  {
   "cell_type": "code",
   "execution_count": 41,
   "metadata": {
    "colab": {},
    "colab_type": "code",
    "id": "ed0Xrb15BoFF"
   },
   "outputs": [],
   "source": [
    "training_set = dataset_train.iloc[:, 1:2].values"
   ]
  },
  {
   "cell_type": "code",
   "execution_count": 42,
   "metadata": {},
   "outputs": [
    {
     "data": {
      "image/png": "[encoded data removed]",
      "text/plain": [
       "<Figure size 432x288 with 1 Axes>"
      ]
     },
     "metadata": {
      "needs_background": "light"
     },
     "output_type": "display_data"
    }
   ],
   "source": [
    "plt.plot(training_set)\n",
    "plt.show()"
   ]
  },
  {
   "cell_type": "code",
   "execution_count": 43,
   "metadata": {
    "colab": {},
    "colab_type": "code",
    "id": "3DqFHDhrBzZS"
   },
   "outputs": [],
   "source": [
    "# Feature Scaling\n",
    "from sklearn.preprocessing import MinMaxScaler\n",
    "sc = MinMaxScaler(feature_range = (0, 1))\n",
    "training_set_scaled = sc.fit_transform(training_set)"
   ]
  },
  {
   "cell_type": "code",
   "execution_count": 44,
   "metadata": {
    "colab": {},
    "colab_type": "code",
    "id": "qYmL_C6XB4Xq"
   },
   "outputs": [
    {
     "data": {
      "text/plain": [
       "array([[0.08581368],\n",
       "       [0.09701243],\n",
       "       [0.09433366],\n",
       "       ...,\n",
       "       [0.95725128],\n",
       "       [0.93796041],\n",
       "       [0.93688146]])"
      ]
     },
     "execution_count": 44,
     "metadata": {},
     "output_type": "execute_result"
    }
   ],
   "source": [
    "training_set_scaled"
   ]
  },
  {
   "cell_type": "code",
   "execution_count": 45,
   "metadata": {
    "colab": {},
    "colab_type": "code",
    "id": "eVi_sZ9WB8B0"
   },
   "outputs": [],
   "source": [
    "# Creating a data structure with 60 timesteps and 1 output\n",
    "X_train = []\n",
    "y_train = []\n",
    "for i in range(60, 1258):\n",
    "    X_train.append(training_set_scaled[i-60:i, 0])\n",
    "    y_train.append(training_set_scaled[i, 0])\n",
    "X_train, y_train = np.array(X_train), np.array(y_train)"
   ]
  },
  {
   "cell_type": "code",
   "execution_count": 46,
   "metadata": {
    "colab": {},
    "colab_type": "code",
    "id": "0b07gZH0JQrB"
   },
   "outputs": [
    {
     "data": {
      "text/plain": [
       "array([[0.08581368, 0.09701243, 0.09433366, ..., 0.07846566, 0.08034452,\n",
       "        0.08497656],\n",
       "       [0.09701243, 0.09433366, 0.09156187, ..., 0.08034452, 0.08497656,\n",
       "        0.08627874],\n",
       "       [0.09433366, 0.09156187, 0.07984225, ..., 0.08497656, 0.08627874,\n",
       "        0.08471612],\n",
       "       ...,\n",
       "       [0.92106928, 0.92438053, 0.93048218, ..., 0.95475854, 0.95204256,\n",
       "        0.95163331],\n",
       "       [0.92438053, 0.93048218, 0.9299055 , ..., 0.95204256, 0.95163331,\n",
       "        0.95725128],\n",
       "       [0.93048218, 0.9299055 , 0.93113327, ..., 0.95163331, 0.95725128,\n",
       "        0.93796041]])"
      ]
     },
     "execution_count": 46,
     "metadata": {},
     "output_type": "execute_result"
    }
   ],
   "source": [
    "X_train"
   ]
  },
  {
   "cell_type": "code",
   "execution_count": 47,
   "metadata": {
    "colab": {},
    "colab_type": "code",
    "id": "E3FD2yNdILqd"
   },
   "outputs": [
    {
     "data": {
      "text/plain": [
       "(1198, 60)"
      ]
     },
     "execution_count": 47,
     "metadata": {},
     "output_type": "execute_result"
    }
   ],
   "source": [
    "X_train.shape"
   ]
  },
  {
   "cell_type": "code",
   "execution_count": 48,
   "metadata": {
    "colab": {},
    "colab_type": "code",
    "id": "ZmUf6F6zC07S"
   },
   "outputs": [
    {
     "data": {
      "text/plain": [
       "1198"
      ]
     },
     "execution_count": 48,
     "metadata": {},
     "output_type": "execute_result"
    }
   ],
   "source": [
    "X_train.shape[0]"
   ]
  },
  {
   "cell_type": "code",
   "execution_count": 49,
   "metadata": {
    "colab": {},
    "colab_type": "code",
    "id": "J6jDm7IFIGn_"
   },
   "outputs": [
    {
     "data": {
      "text/plain": [
       "60"
      ]
     },
     "execution_count": 49,
     "metadata": {},
     "output_type": "execute_result"
    }
   ],
   "source": [
    "X_train.shape[1]"
   ]
  },
  {
   "cell_type": "code",
   "execution_count": 50,
   "metadata": {
    "colab": {},
    "colab_type": "code",
    "id": "v9kJVAFyHj1j"
   },
   "outputs": [],
   "source": [
    "# Reshaping\n",
    "X_train = np.reshape(X_train, (X_train.shape[0], X_train.shape[1], 1))"
   ]
  },
  {
   "cell_type": "code",
   "execution_count": 51,
   "metadata": {
    "colab": {},
    "colab_type": "code",
    "id": "hIlpQYWwJi9U"
   },
   "outputs": [
    {
     "data": {
      "text/plain": [
       "(1198, 60, 1)"
      ]
     },
     "execution_count": 51,
     "metadata": {},
     "output_type": "execute_result"
    }
   ],
   "source": [
    "X_train.shape"
   ]
  },
  {
   "cell_type": "code",
   "execution_count": 52,
   "metadata": {
    "colab": {},
    "colab_type": "code",
    "id": "xg_JuK5ELBw_"
   },
   "outputs": [
    {
     "data": {
      "text/plain": [
       "array([[0.08581368],\n",
       "       [0.09701243],\n",
       "       [0.09433366],\n",
       "       [0.09156187],\n",
       "       [0.07984225],\n",
       "       [0.0643277 ],\n",
       "       [0.0585423 ],\n",
       "       [0.06568569],\n",
       "       [0.06109085],\n",
       "       [0.06639259],\n",
       "       [0.0614257 ],\n",
       "       [0.07474514],\n",
       "       [0.02797827],\n",
       "       [0.02379269],\n",
       "       [0.02409033],\n",
       "       [0.0159238 ],\n",
       "       [0.01078949],\n",
       "       [0.00967334],\n",
       "       [0.01642607],\n",
       "       [0.02100231],\n",
       "       [0.02280676],\n",
       "       [0.02273235],\n",
       "       [0.02810849],\n",
       "       [0.03212665],\n",
       "       [0.0433812 ],\n",
       "       [0.04475779],\n",
       "       [0.04790163],\n",
       "       [0.0440695 ],\n",
       "       [0.04648783],\n",
       "       [0.04745517],\n",
       "       [0.04873875],\n",
       "       [0.03936305],\n",
       "       [0.04137213],\n",
       "       [0.04034898],\n",
       "       [0.04784582],\n",
       "       [0.04325099],\n",
       "       [0.04356723],\n",
       "       [0.04286033],\n",
       "       [0.04602277],\n",
       "       [0.05398467],\n",
       "       [0.05738894],\n",
       "       [0.05714711],\n",
       "       [0.05569611],\n",
       "       [0.04421832],\n",
       "       [0.04514845],\n",
       "       [0.04605997],\n",
       "       [0.04412531],\n",
       "       [0.03675869],\n",
       "       [0.04486941],\n",
       "       [0.05065481],\n",
       "       [0.05214302],\n",
       "       [0.05612397],\n",
       "       [0.05818885],\n",
       "       [0.06540665],\n",
       "       [0.06882953],\n",
       "       [0.07243843],\n",
       "       [0.07993526],\n",
       "       [0.07846566],\n",
       "       [0.08034452],\n",
       "       [0.08497656]])"
      ]
     },
     "execution_count": 52,
     "metadata": {},
     "output_type": "execute_result"
    }
   ],
   "source": [
    "X_train[0]"
   ]
  },
  {
   "cell_type": "code",
   "execution_count": 53,
   "metadata": {
    "colab": {},
    "colab_type": "code",
    "id": "pWS_0wPTLCUZ"
   },
   "outputs": [
    {
     "data": {
      "text/plain": [
       "array([[0.09701243],\n",
       "       [0.09433366],\n",
       "       [0.09156187],\n",
       "       [0.07984225],\n",
       "       [0.0643277 ],\n",
       "       [0.0585423 ],\n",
       "       [0.06568569],\n",
       "       [0.06109085],\n",
       "       [0.06639259],\n",
       "       [0.0614257 ],\n",
       "       [0.07474514],\n",
       "       [0.02797827],\n",
       "       [0.02379269],\n",
       "       [0.02409033],\n",
       "       [0.0159238 ],\n",
       "       [0.01078949],\n",
       "       [0.00967334],\n",
       "       [0.01642607],\n",
       "       [0.02100231],\n",
       "       [0.02280676],\n",
       "       [0.02273235],\n",
       "       [0.02810849],\n",
       "       [0.03212665],\n",
       "       [0.0433812 ],\n",
       "       [0.04475779],\n",
       "       [0.04790163],\n",
       "       [0.0440695 ],\n",
       "       [0.04648783],\n",
       "       [0.04745517],\n",
       "       [0.04873875],\n",
       "       [0.03936305],\n",
       "       [0.04137213],\n",
       "       [0.04034898],\n",
       "       [0.04784582],\n",
       "       [0.04325099],\n",
       "       [0.04356723],\n",
       "       [0.04286033],\n",
       "       [0.04602277],\n",
       "       [0.05398467],\n",
       "       [0.05738894],\n",
       "       [0.05714711],\n",
       "       [0.05569611],\n",
       "       [0.04421832],\n",
       "       [0.04514845],\n",
       "       [0.04605997],\n",
       "       [0.04412531],\n",
       "       [0.03675869],\n",
       "       [0.04486941],\n",
       "       [0.05065481],\n",
       "       [0.05214302],\n",
       "       [0.05612397],\n",
       "       [0.05818885],\n",
       "       [0.06540665],\n",
       "       [0.06882953],\n",
       "       [0.07243843],\n",
       "       [0.07993526],\n",
       "       [0.07846566],\n",
       "       [0.08034452],\n",
       "       [0.08497656],\n",
       "       [0.08627874]])"
      ]
     },
     "execution_count": 53,
     "metadata": {},
     "output_type": "execute_result"
    }
   ],
   "source": [
    "X_train[1]"
   ]
  },
  {
   "cell_type": "code",
   "execution_count": 54,
   "metadata": {
    "colab": {},
    "colab_type": "code",
    "id": "0b8r9g8ZLCy5"
   },
   "outputs": [
    {
     "data": {
      "text/plain": [
       "array([[0.09433366],\n",
       "       [0.09156187],\n",
       "       [0.07984225],\n",
       "       [0.0643277 ],\n",
       "       [0.0585423 ],\n",
       "       [0.06568569],\n",
       "       [0.06109085],\n",
       "       [0.06639259],\n",
       "       [0.0614257 ],\n",
       "       [0.07474514],\n",
       "       [0.02797827],\n",
       "       [0.02379269],\n",
       "       [0.02409033],\n",
       "       [0.0159238 ],\n",
       "       [0.01078949],\n",
       "       [0.00967334],\n",
       "       [0.01642607],\n",
       "       [0.02100231],\n",
       "       [0.02280676],\n",
       "       [0.02273235],\n",
       "       [0.02810849],\n",
       "       [0.03212665],\n",
       "       [0.0433812 ],\n",
       "       [0.04475779],\n",
       "       [0.04790163],\n",
       "       [0.0440695 ],\n",
       "       [0.04648783],\n",
       "       [0.04745517],\n",
       "       [0.04873875],\n",
       "       [0.03936305],\n",
       "       [0.04137213],\n",
       "       [0.04034898],\n",
       "       [0.04784582],\n",
       "       [0.04325099],\n",
       "       [0.04356723],\n",
       "       [0.04286033],\n",
       "       [0.04602277],\n",
       "       [0.05398467],\n",
       "       [0.05738894],\n",
       "       [0.05714711],\n",
       "       [0.05569611],\n",
       "       [0.04421832],\n",
       "       [0.04514845],\n",
       "       [0.04605997],\n",
       "       [0.04412531],\n",
       "       [0.03675869],\n",
       "       [0.04486941],\n",
       "       [0.05065481],\n",
       "       [0.05214302],\n",
       "       [0.05612397],\n",
       "       [0.05818885],\n",
       "       [0.06540665],\n",
       "       [0.06882953],\n",
       "       [0.07243843],\n",
       "       [0.07993526],\n",
       "       [0.07846566],\n",
       "       [0.08034452],\n",
       "       [0.08497656],\n",
       "       [0.08627874],\n",
       "       [0.08471612]])"
      ]
     },
     "execution_count": 54,
     "metadata": {},
     "output_type": "execute_result"
    }
   ],
   "source": [
    "X_train[2]"
   ]
  },
  {
   "cell_type": "code",
   "execution_count": 55,
   "metadata": {},
   "outputs": [],
   "source": [
    "import tensorflow as tf"
   ]
  },
  {
   "cell_type": "code",
   "execution_count": 56,
   "metadata": {
    "colab": {},
    "colab_type": "code",
    "id": "tEf7L0RwLWI-"
   },
   "outputs": [],
   "source": [
    "# Importing the Keras libraries and packages\n",
    "from tensorflow.keras.models import Sequential\n",
    "from tensorflow.keras.layers import Dense\n",
    "from tensorflow.keras.layers import LSTM\n",
    "from tensorflow.keras.layers import Dropout"
   ]
  },
  {
   "cell_type": "code",
   "execution_count": 57,
   "metadata": {
    "colab": {},
    "colab_type": "code",
    "id": "sVfRnC96LeBF"
   },
   "outputs": [],
   "source": [
    "# Initialising the RNN\n",
    "regressor = Sequential()\n",
    "\n",
    "# Adding the first LSTM layer and some Dropout regularisation\n",
    "regressor.add(LSTM(units = 50, return_sequences = True, input_shape = (X_train.shape[1], 1)))\n",
    "regressor.add(Dropout(0.2))\n",
    "\n",
    "# Adding a second LSTM layer and some Dropout regularisation\n",
    "regressor.add(LSTM(units = 50, return_sequences = True))\n",
    "regressor.add(Dropout(0.2))\n",
    "\n",
    "# Adding a third LSTM layer and some Dropout regularisation\n",
    "regressor.add(LSTM(units = 50, return_sequences = True))\n",
    "regressor.add(Dropout(0.2))\n",
    "\n",
    "# Adding a fourth LSTM layer and some Dropout regularisation\n",
    "regressor.add(LSTM(units = 50))\n",
    "regressor.add(Dropout(0.2))\n",
    "\n",
    "# Adding the output layer\n",
    "regressor.add(Dense(units = 1))"
   ]
  },
  {
   "cell_type": "code",
   "execution_count": 58,
   "metadata": {},
   "outputs": [],
   "source": [
    "# Compiling the RNN\n",
    "regressor.compile(optimizer = 'adam', loss = 'mean_squared_error')\n"
   ]
  },
  {
   "cell_type": "code",
   "execution_count": 59,
   "metadata": {
    "colab": {},
    "colab_type": "code",
    "id": "Z38jKBDyR9iM"
   },
   "outputs": [
    {
     "name": "stdout",
     "output_type": "stream",
     "text": [
      "Train on 1198 samples\n",
      "Epoch 1/100\n",
      "1198/1198 [==============================] - 15s 13ms/sample - loss: 0.0392\n",
      "Epoch 2/100\n",
      "1198/1198 [==============================] - 7s 6ms/sample - loss: 0.0059\n",
      "Epoch 3/100\n",
      "1198/1198 [==============================] - 7s 6ms/sample - loss: 0.0057\n",
      "Epoch 4/100\n",
      "1198/1198 [==============================] - 7s 5ms/sample - loss: 0.0059\n",
      "Epoch 5/100\n",
      "1198/1198 [==============================] - 7s 6ms/sample - loss: 0.0053\n",
      "Epoch 6/100\n",
      "1198/1198 [==============================] - 9s 7ms/sample - loss: 0.0051\n",
      "Epoch 7/100\n",
      "1198/1198 [==============================] - 11s 9ms/sample - loss: 0.0051\n",
      "Epoch 8/100\n",
      "1198/1198 [==============================] - 9s 7ms/sample - loss: 0.0040\n",
      "Epoch 9/100\n",
      "1198/1198 [==============================] - 8s 7ms/sample - loss: 0.0048\n",
      "Epoch 10/100\n",
      "1198/1198 [==============================] - 9s 7ms/sample - loss: 0.0043\n",
      "Epoch 11/100\n",
      "1198/1198 [==============================] - 8s 7ms/sample - loss: 0.0043\n",
      "Epoch 12/100\n",
      "1198/1198 [==============================] - 10s 8ms/sample - loss: 0.0038\n",
      "Epoch 13/100\n",
      "1198/1198 [==============================] - 9s 7ms/sample - loss: 0.0037\n",
      "Epoch 14/100\n",
      "1198/1198 [==============================] - 9s 8ms/sample - loss: 0.0038\n",
      "Epoch 15/100\n",
      "1198/1198 [==============================] - 9s 8ms/sample - loss: 0.0042\n",
      "Epoch 16/100\n",
      "1198/1198 [==============================] - 8s 7ms/sample - loss: 0.0037\n",
      "Epoch 17/100\n",
      "1198/1198 [==============================] - 10s 8ms/sample - loss: 0.0036\n",
      "Epoch 18/100\n",
      "1198/1198 [==============================] - 8s 7ms/sample - loss: 0.0037\n",
      "Epoch 19/100\n",
      "1198/1198 [==============================] - 9s 7ms/sample - loss: 0.0034\n",
      "Epoch 20/100\n",
      "1198/1198 [==============================] - 7s 6ms/sample - loss: 0.0036\n",
      "Epoch 21/100\n",
      "1198/1198 [==============================] - 7s 6ms/sample - loss: 0.0034\n",
      "Epoch 22/100\n",
      "1198/1198 [==============================] - 9s 7ms/sample - loss: 0.0034\n",
      "Epoch 23/100\n",
      "1198/1198 [==============================] - 9s 7ms/sample - loss: 0.0036\n",
      "Epoch 24/100\n",
      "1198/1198 [==============================] - 9s 7ms/sample - loss: 0.0032\n",
      "Epoch 25/100\n",
      "1198/1198 [==============================] - 7s 6ms/sample - loss: 0.0031\n",
      "Epoch 26/100\n",
      "1198/1198 [==============================] - 9s 7ms/sample - loss: 0.0030\n",
      "Epoch 27/100\n",
      "1198/1198 [==============================] - 7s 6ms/sample - loss: 0.0032\n",
      "Epoch 28/100\n",
      "1198/1198 [==============================] - 8s 7ms/sample - loss: 0.0032\n",
      "Epoch 29/100\n",
      "1198/1198 [==============================] - 8s 7ms/sample - loss: 0.0032\n",
      "Epoch 30/100\n",
      "1198/1198 [==============================] - 8s 7ms/sample - loss: 0.0029\n",
      "Epoch 31/100\n",
      "1198/1198 [==============================] - 8s 7ms/sample - loss: 0.0032\n",
      "Epoch 32/100\n",
      "1198/1198 [==============================] - 8s 7ms/sample - loss: 0.0027\n",
      "Epoch 33/100\n",
      "1198/1198 [==============================] - 8s 7ms/sample - loss: 0.0033\n",
      "Epoch 34/100\n",
      "1198/1198 [==============================] - 8s 7ms/sample - loss: 0.0027\n",
      "Epoch 35/100\n",
      "1198/1198 [==============================] - 8s 7ms/sample - loss: 0.0027\n",
      "Epoch 36/100\n",
      "1198/1198 [==============================] - 8s 7ms/sample - loss: 0.0026\n",
      "Epoch 37/100\n",
      "1198/1198 [==============================] - 8s 7ms/sample - loss: 0.0025\n",
      "Epoch 38/100\n",
      "1198/1198 [==============================] - 8s 7ms/sample - loss: 0.0024\n",
      "Epoch 39/100\n",
      "1198/1198 [==============================] - 8s 7ms/sample - loss: 0.0025\n",
      "Epoch 40/100\n",
      "1198/1198 [==============================] - 8s 7ms/sample - loss: 0.0029\n",
      "Epoch 41/100\n",
      "1198/1198 [==============================] - 8s 7ms/sample - loss: 0.0025\n",
      "Epoch 42/100\n",
      "1198/1198 [==============================] - 8s 7ms/sample - loss: 0.0026\n",
      "Epoch 43/100\n",
      "1198/1198 [==============================] - 8s 7ms/sample - loss: 0.0026\n",
      "Epoch 44/100\n",
      "1198/1198 [==============================] - 8s 7ms/sample - loss: 0.0025\n",
      "Epoch 45/100\n",
      "1198/1198 [==============================] - 8s 7ms/sample - loss: 0.0024\n",
      "Epoch 46/100\n",
      "1198/1198 [==============================] - 8s 7ms/sample - loss: 0.0025\n",
      "Epoch 47/100\n",
      "1198/1198 [==============================] - 8s 7ms/sample - loss: 0.0024\n",
      "Epoch 48/100\n",
      "1198/1198 [==============================] - 8s 7ms/sample - loss: 0.0021\n",
      "Epoch 49/100\n",
      "1198/1198 [==============================] - 8s 7ms/sample - loss: 0.0025\n",
      "Epoch 50/100\n",
      "1198/1198 [==============================] - 8s 7ms/sample - loss: 0.0024\n",
      "Epoch 51/100\n",
      "1198/1198 [==============================] - 8s 7ms/sample - loss: 0.0024\n",
      "Epoch 52/100\n",
      "1198/1198 [==============================] - 8s 7ms/sample - loss: 0.0023\n",
      "Epoch 53/100\n",
      "1198/1198 [==============================] - 8s 7ms/sample - loss: 0.0023\n",
      "Epoch 54/100\n",
      "1198/1198 [==============================] - 8s 7ms/sample - loss: 0.0023\n",
      "Epoch 55/100\n",
      "1198/1198 [==============================] - 8s 7ms/sample - loss: 0.0023\n",
      "Epoch 56/100\n",
      "1198/1198 [==============================] - 8s 7ms/sample - loss: 0.0023\n",
      "Epoch 57/100\n",
      "1198/1198 [==============================] - 8s 7ms/sample - loss: 0.0021\n",
      "Epoch 58/100\n",
      "1198/1198 [==============================] - 8s 7ms/sample - loss: 0.0021\n",
      "Epoch 59/100\n",
      "1198/1198 [==============================] - 8s 7ms/sample - loss: 0.0021\n",
      "Epoch 60/100\n",
      "1198/1198 [==============================] - 8s 7ms/sample - loss: 0.0019\n",
      "Epoch 61/100\n",
      "1198/1198 [==============================] - 9s 7ms/sample - loss: 0.0019\n",
      "Epoch 62/100\n",
      "1198/1198 [==============================] - 10s 8ms/sample - loss: 0.0020\n",
      "Epoch 63/100\n",
      "1198/1198 [==============================] - 9s 7ms/sample - loss: 0.0020\n",
      "Epoch 64/100\n",
      "1198/1198 [==============================] - 9s 8ms/sample - loss: 0.0023\n",
      "Epoch 65/100\n",
      "1198/1198 [==============================] - 11s 9ms/sample - loss: 0.0020\n",
      "Epoch 66/100\n",
      "1198/1198 [==============================] - 8s 7ms/sample - loss: 0.0020\n",
      "Epoch 67/100\n",
      "1198/1198 [==============================] - 6s 5ms/sample - loss: 0.0020\n",
      "Epoch 68/100\n",
      "1198/1198 [==============================] - 7s 6ms/sample - loss: 0.0020\n",
      "Epoch 69/100\n",
      "1198/1198 [==============================] - 8s 7ms/sample - loss: 0.0020\n",
      "Epoch 70/100\n",
      "1198/1198 [==============================] - 7s 6ms/sample - loss: 0.0019\n",
      "Epoch 71/100\n",
      "1198/1198 [==============================] - 10s 8ms/sample - loss: 0.0022\n",
      "Epoch 72/100\n",
      "1198/1198 [==============================] - 8s 7ms/sample - loss: 0.0018\n",
      "Epoch 73/100\n",
      "1198/1198 [==============================] - 7s 6ms/sample - loss: 0.0020\n",
      "Epoch 74/100\n",
      "1198/1198 [==============================] - 9s 7ms/sample - loss: 0.0018\n",
      "Epoch 75/100\n",
      "1198/1198 [==============================] - 8s 7ms/sample - loss: 0.0019\n",
      "Epoch 76/100\n",
      "1198/1198 [==============================] - 8s 7ms/sample - loss: 0.0017\n",
      "Epoch 77/100\n",
      "1198/1198 [==============================] - 9s 7ms/sample - loss: 0.0015\n",
      "Epoch 78/100\n",
      "1198/1198 [==============================] - 7s 6ms/sample - loss: 0.0019\n",
      "Epoch 79/100\n",
      "1198/1198 [==============================] - 7s 6ms/sample - loss: 0.0018\n",
      "Epoch 80/100\n",
      "1198/1198 [==============================] - 8s 7ms/sample - loss: 0.0016\n",
      "Epoch 81/100\n",
      "1198/1198 [==============================] - 7s 6ms/sample - loss: 0.0016\n",
      "Epoch 82/100\n",
      "1198/1198 [==============================] - 7s 6ms/sample - loss: 0.0017\n",
      "Epoch 83/100\n",
      "1198/1198 [==============================] - 7s 6ms/sample - loss: 0.0016\n",
      "Epoch 84/100\n",
      "1198/1198 [==============================] - 9s 8ms/sample - loss: 0.0018\n",
      "Epoch 85/100\n",
      "1198/1198 [==============================] - 8s 7ms/sample - loss: 0.0016\n",
      "Epoch 86/100\n",
      "1198/1198 [==============================] - 11s 9ms/sample - loss: 0.0015\n",
      "Epoch 87/100\n",
      "1198/1198 [==============================] - 9s 8ms/sample - loss: 0.0016\n",
      "Epoch 88/100\n",
      "1198/1198 [==============================] - 10s 9ms/sample - loss: 0.0015\n",
      "Epoch 89/100\n",
      "1198/1198 [==============================] - 8s 7ms/sample - loss: 0.0015\n",
      "Epoch 90/100\n",
      "1198/1198 [==============================] - 8s 7ms/sample - loss: 0.0016\n",
      "Epoch 91/100\n",
      "1198/1198 [==============================] - 8s 7ms/sample - loss: 0.0016\n",
      "Epoch 92/100\n",
      "1198/1198 [==============================] - 8s 7ms/sample - loss: 0.0015\n",
      "Epoch 93/100\n",
      "1198/1198 [==============================] - 8s 7ms/sample - loss: 0.0015\n",
      "Epoch 94/100\n"
     ]
    },
    {
     "name": "stdout",
     "output_type": "stream",
     "text": [
      "1198/1198 [==============================] - 9s 8ms/sample - loss: 0.0014\n",
      "Epoch 95/100\n",
      "1198/1198 [==============================] - 9s 7ms/sample - loss: 0.0015\n",
      "Epoch 96/100\n",
      "1198/1198 [==============================] - 9s 7ms/sample - loss: 0.0014\n",
      "Epoch 97/100\n",
      "1198/1198 [==============================] - 9s 8ms/sample - loss: 0.0015\n",
      "Epoch 98/100\n",
      "1198/1198 [==============================] - 10s 8ms/sample - loss: 0.0014\n",
      "Epoch 99/100\n",
      "1198/1198 [==============================] - 9s 7ms/sample - loss: 0.0014\n",
      "Epoch 100/100\n",
      "1198/1198 [==============================] - 9s 8ms/sample - loss: 0.0013\n"
     ]
    },
    {
     "data": {
      "text/plain": [
       "<tensorflow.python.keras.callbacks.History at 0x7f578428bf50>"
      ]
     },
     "execution_count": 59,
     "metadata": {},
     "output_type": "execute_result"
    }
   ],
   "source": [
    "\n",
    "# Fitting the RNN to the Training set\n",
    "regressor.fit(X_train, y_train, epochs = 100, batch_size = 32)\n"
   ]
  },
  {
   "cell_type": "code",
   "execution_count": 60,
   "metadata": {},
   "outputs": [
    {
     "data": {
      "text/plain": [
       "(1198, 60, 1)"
      ]
     },
     "execution_count": 60,
     "metadata": {},
     "output_type": "execute_result"
    }
   ],
   "source": [
    "X_train.shape"
   ]
  },
  {
   "cell_type": "code",
   "execution_count": 61,
   "metadata": {},
   "outputs": [
    {
     "data": {
      "text/plain": [
       "(1198,)"
      ]
     },
     "execution_count": 61,
     "metadata": {},
     "output_type": "execute_result"
    }
   ],
   "source": [
    "y_train.shape"
   ]
  },
  {
   "cell_type": "code",
   "execution_count": 62,
   "metadata": {},
   "outputs": [
    {
     "data": {
      "image/png": "[encoded data removed]",
      "text/plain": [
       "<Figure size 432x288 with 1 Axes>"
      ]
     },
     "metadata": {
      "needs_background": "light"
     },
     "output_type": "display_data"
    }
   ],
   "source": [
    "# Visualising the results\n",
    "plt.plot(y_train, color = 'red', label = 'Real Google Stock Price')\n",
    "plt.plot(regressor.predict(X_train), color = 'blue', label = 'Predicted Google Stock Price')\n",
    "plt.title('Google Stock Price Prediction')\n",
    "plt.xlabel('Time')\n",
    "plt.ylabel('Google Stock Price')\n",
    "plt.legend()\n",
    "plt.show()"
   ]
  },
  {
   "cell_type": "code",
   "execution_count": 63,
   "metadata": {
    "colab": {},
    "colab_type": "code",
    "id": "JROwtRhsTRhS"
   },
   "outputs": [],
   "source": [
    "# Getting the real stock price of 2017\n",
    "dataset_test = pd.read_csv('Google_Stock_Price_Test.csv')\n",
    "real_stock_price = dataset_test.iloc[:, 1:2].values"
   ]
  },
  {
   "cell_type": "code",
   "execution_count": 64,
   "metadata": {
    "colab": {},
    "colab_type": "code",
    "id": "21NbRrPjZtCu"
   },
   "outputs": [
    {
     "data": {
      "text/plain": [
       "(20, 6)"
      ]
     },
     "execution_count": 64,
     "metadata": {},
     "output_type": "execute_result"
    }
   ],
   "source": [
    " dataset_test.shape"
   ]
  },
  {
   "cell_type": "code",
   "execution_count": 65,
   "metadata": {
    "colab": {},
    "colab_type": "code",
    "id": "Z_2r_IzEblTx"
   },
   "outputs": [
    {
     "data": {
      "text/plain": [
       "(1258, 6)"
      ]
     },
     "execution_count": 65,
     "metadata": {},
     "output_type": "execute_result"
    }
   ],
   "source": [
    " dataset_train.shape"
   ]
  },
  {
   "cell_type": "code",
   "execution_count": 66,
   "metadata": {
    "colab": {},
    "colab_type": "code",
    "id": "u4kyuGpebuBV"
   },
   "outputs": [],
   "source": [
    "# Getting the predicted stock price of 2017\n",
    "dataset_total = pd.concat((dataset_train['Open'], dataset_test['Open']), axis = 0)"
   ]
  },
  {
   "cell_type": "code",
   "execution_count": 67,
   "metadata": {
    "colab": {},
    "colab_type": "code",
    "id": "iZ8a8uOGbzlR"
   },
   "outputs": [
    {
     "data": {
      "text/plain": [
       "(1278,)"
      ]
     },
     "execution_count": 67,
     "metadata": {},
     "output_type": "execute_result"
    }
   ],
   "source": [
    "dataset_total.shape"
   ]
  },
  {
   "cell_type": "code",
   "execution_count": 68,
   "metadata": {
    "colab": {},
    "colab_type": "code",
    "id": "p02eadc2nX9O"
   },
   "outputs": [
    {
     "data": {
      "text/plain": [
       "0     325.25\n",
       "1     331.27\n",
       "2     329.83\n",
       "3     328.34\n",
       "4     322.04\n",
       "       ...  \n",
       "15    829.62\n",
       "16    837.81\n",
       "17    834.71\n",
       "18    814.66\n",
       "19    796.86\n",
       "Name: Open, Length: 1278, dtype: float64"
      ]
     },
     "execution_count": 68,
     "metadata": {},
     "output_type": "execute_result"
    }
   ],
   "source": [
    "dataset_total"
   ]
  },
  {
   "cell_type": "code",
   "execution_count": 69,
   "metadata": {
    "colab": {},
    "colab_type": "code",
    "id": "_gj4Olknncl_"
   },
   "outputs": [],
   "source": [
    "# Getting the predicted stock price of 2017\n",
    "dataset_total = pd.concat((dataset_train['Open'], dataset_test['Open']), axis = 0)\n",
    "inputs = dataset_total[len(dataset_total) - len(dataset_test) - 60:].values"
   ]
  },
  {
   "cell_type": "code",
   "execution_count": 70,
   "metadata": {
    "colab": {},
    "colab_type": "code",
    "id": "aTlsMXeTqBtD"
   },
   "outputs": [
    {
     "data": {
      "text/plain": [
       "array([779.  , 779.66, 777.71, 786.66, 783.76, 781.22, 781.65, 779.8 ,\n",
       "       787.85, 798.24, 803.3 , 795.  , 804.9 , 816.68, 806.34, 801.  ,\n",
       "       808.35, 795.47, 782.89, 778.2 , 767.25, 750.66, 774.5 , 783.4 ,\n",
       "       779.94, 791.17, 756.54, 755.6 , 746.97, 755.2 , 766.92, 771.37,\n",
       "       762.61, 772.63, 767.73, 764.26, 760.  , 771.53, 770.07, 757.44,\n",
       "       744.59, 757.71, 764.73, 761.  , 772.48, 780.  , 785.04, 793.9 ,\n",
       "       797.4 , 797.34, 800.4 , 790.22, 796.76, 795.84, 792.36, 790.9 ,\n",
       "       790.68, 793.7 , 783.33, 782.75, 778.81, 788.36, 786.08, 795.26,\n",
       "       806.4 , 807.86, 805.  , 807.14, 807.48, 807.08, 805.81, 805.12,\n",
       "       806.91, 807.25, 822.3 , 829.62, 837.81, 834.71, 814.66, 796.86])"
      ]
     },
     "execution_count": 70,
     "metadata": {},
     "output_type": "execute_result"
    }
   ],
   "source": [
    "inputs"
   ]
  },
  {
   "cell_type": "code",
   "execution_count": 71,
   "metadata": {
    "colab": {},
    "colab_type": "code",
    "id": "4by0wfE1pwr7"
   },
   "outputs": [
    {
     "data": {
      "text/plain": [
       "(80,)"
      ]
     },
     "execution_count": 71,
     "metadata": {},
     "output_type": "execute_result"
    }
   ],
   "source": [
    "inputs.shape"
   ]
  },
  {
   "cell_type": "code",
   "execution_count": 72,
   "metadata": {
    "colab": {},
    "colab_type": "code",
    "id": "AWxJJHHoqG-z"
   },
   "outputs": [],
   "source": [
    "inputs = inputs.reshape(-1,1)"
   ]
  },
  {
   "cell_type": "code",
   "execution_count": 73,
   "metadata": {
    "colab": {},
    "colab_type": "code",
    "id": "emC6OJnuqHz6"
   },
   "outputs": [
    {
     "data": {
      "text/plain": [
       "array([[779.  ],\n",
       "       [779.66],\n",
       "       [777.71],\n",
       "       [786.66],\n",
       "       [783.76],\n",
       "       [781.22],\n",
       "       [781.65],\n",
       "       [779.8 ],\n",
       "       [787.85],\n",
       "       [798.24],\n",
       "       [803.3 ],\n",
       "       [795.  ],\n",
       "       [804.9 ],\n",
       "       [816.68],\n",
       "       [806.34],\n",
       "       [801.  ],\n",
       "       [808.35],\n",
       "       [795.47],\n",
       "       [782.89],\n",
       "       [778.2 ],\n",
       "       [767.25],\n",
       "       [750.66],\n",
       "       [774.5 ],\n",
       "       [783.4 ],\n",
       "       [779.94],\n",
       "       [791.17],\n",
       "       [756.54],\n",
       "       [755.6 ],\n",
       "       [746.97],\n",
       "       [755.2 ],\n",
       "       [766.92],\n",
       "       [771.37],\n",
       "       [762.61],\n",
       "       [772.63],\n",
       "       [767.73],\n",
       "       [764.26],\n",
       "       [760.  ],\n",
       "       [771.53],\n",
       "       [770.07],\n",
       "       [757.44],\n",
       "       [744.59],\n",
       "       [757.71],\n",
       "       [764.73],\n",
       "       [761.  ],\n",
       "       [772.48],\n",
       "       [780.  ],\n",
       "       [785.04],\n",
       "       [793.9 ],\n",
       "       [797.4 ],\n",
       "       [797.34],\n",
       "       [800.4 ],\n",
       "       [790.22],\n",
       "       [796.76],\n",
       "       [795.84],\n",
       "       [792.36],\n",
       "       [790.9 ],\n",
       "       [790.68],\n",
       "       [793.7 ],\n",
       "       [783.33],\n",
       "       [782.75],\n",
       "       [778.81],\n",
       "       [788.36],\n",
       "       [786.08],\n",
       "       [795.26],\n",
       "       [806.4 ],\n",
       "       [807.86],\n",
       "       [805.  ],\n",
       "       [807.14],\n",
       "       [807.48],\n",
       "       [807.08],\n",
       "       [805.81],\n",
       "       [805.12],\n",
       "       [806.91],\n",
       "       [807.25],\n",
       "       [822.3 ],\n",
       "       [829.62],\n",
       "       [837.81],\n",
       "       [834.71],\n",
       "       [814.66],\n",
       "       [796.86]])"
      ]
     },
     "execution_count": 73,
     "metadata": {},
     "output_type": "execute_result"
    }
   ],
   "source": [
    "inputs"
   ]
  },
  {
   "cell_type": "code",
   "execution_count": 74,
   "metadata": {
    "colab": {},
    "colab_type": "code",
    "id": "tw_Py9yRqN8C"
   },
   "outputs": [
    {
     "data": {
      "text/plain": [
       "(80, 1)"
      ]
     },
     "execution_count": 74,
     "metadata": {},
     "output_type": "execute_result"
    }
   ],
   "source": [
    "inputs.shape"
   ]
  },
  {
   "cell_type": "code",
   "execution_count": 75,
   "metadata": {
    "colab": {},
    "colab_type": "code",
    "id": "7-PHsSvMqOqr"
   },
   "outputs": [],
   "source": [
    "inputs = sc.transform(inputs)\n",
    "X_test = []\n",
    "for i in range(60, 80):\n",
    "    X_test.append(inputs[i-60:i, 0])\n",
    "X_test = np.array(X_test)\n",
    "X_test = np.reshape(X_test, (X_test.shape[0], X_test.shape[1], 1))\n",
    "predicted_stock_price = regressor.predict(X_test)\n",
    "predicted_stock_price = sc.inverse_transform(predicted_stock_price)"
   ]
  },
  {
   "cell_type": "code",
   "execution_count": 76,
   "metadata": {
    "colab": {},
    "colab_type": "code",
    "id": "XHURlIBryWh4"
   },
   "outputs": [
    {
     "data": {
      "image/png": "[encoded data removed]",
      "text/plain": [
       "<Figure size 432x288 with 1 Axes>"
      ]
     },
     "metadata": {
      "needs_background": "light"
     },
     "output_type": "display_data"
    }
   ],
   "source": [
    "# Visualising the results\n",
    "plt.plot(real_stock_price, color = 'red', label = 'Real Google Stock Price')\n",
    "plt.plot(predicted_stock_price, color = 'blue', label = 'Predicted Google Stock Price')\n",
    "plt.title('Google Stock Price Prediction')\n",
    "plt.xlabel('Time')\n",
    "plt.ylabel('Google Stock Price')\n",
    "plt.legend()\n",
    "plt.show()"
   ]
  },
  {
   "cell_type": "code",
   "execution_count": 77,
   "metadata": {
    "colab": {},
    "colab_type": "code",
    "id": "QJ2fhRwpy3pp"
   },
   "outputs": [],
   "source": [
    "from sklearn.metrics import mean_squared_error, mean_absolute_error, r2_score\n",
    "rmse = np.sqrt(mean_squared_error(real_stock_price, predicted_stock_price))\n",
    "mae = mean_absolute_error(real_stock_price, predicted_stock_price)\n",
    "score = r2_score(real_stock_price, predicted_stock_price)"
   ]
  },
  {
   "cell_type": "code",
   "execution_count": 78,
   "metadata": {
    "colab": {},
    "colab_type": "code",
    "id": "y1PwdN5C0V25"
   },
   "outputs": [
    {
     "data": {
      "text/plain": [
       "15.62531839001638"
      ]
     },
     "execution_count": 78,
     "metadata": {},
     "output_type": "execute_result"
    }
   ],
   "source": [
    "rmse"
   ]
  },
  {
   "cell_type": "code",
   "execution_count": 79,
   "metadata": {
    "colab": {},
    "colab_type": "code",
    "id": "oW0b-PyA0XfL"
   },
   "outputs": [
    {
     "data": {
      "text/plain": [
       "13.888620727539063"
      ]
     },
     "execution_count": 79,
     "metadata": {},
     "output_type": "execute_result"
    }
   ],
   "source": [
    "mae"
   ]
  },
  {
   "cell_type": "code",
   "execution_count": 80,
   "metadata": {
    "colab": {},
    "colab_type": "code",
    "id": "-kAFxF2z0r9Z"
   },
   "outputs": [
    {
     "data": {
      "text/plain": [
       "-0.12335954482279732"
      ]
     },
     "execution_count": 80,
     "metadata": {},
     "output_type": "execute_result"
    }
   ],
   "source": [
    "score"
   ]
  },
  {
   "cell_type": "code",
   "execution_count": null,
   "metadata": {},
   "outputs": [],
   "source": []
  }
 ],
 "metadata": {
  "colab": {
   "name": "RNN.ipynb",
   "private_outputs": true,
   "provenance": []
  },
  "kernelspec": {
   "display_name": "Python 3",
   "language": "python",
   "name": "python3"
  },
  "language_info": {
   "codemirror_mode": {
    "name": "ipython",
    "version": 3
   },
   "file_extension": ".py",
   "mimetype": "text/x-python",
   "name": "python",
   "nbconvert_exporter": "python",
   "pygments_lexer": "ipython3",
   "version": "3.7.6"
  }
 },
 "nbformat": 4,
 "nbformat_minor": 1
}
